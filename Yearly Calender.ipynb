{
 "cells": [
  {
   "cell_type": "markdown",
   "metadata": {},
   "source": [
    "# Yearly Calendar \n",
    "# By Awais Manzoor\n",
    "# Data Analyst"
   ]
  },
  {
   "cell_type": "code",
   "execution_count": null,
   "metadata": {},
   "outputs": [
    {
     "name": "stdout",
     "output_type": "stream",
     "text": [
      "\n",
      "==============================\n",
      "   CALENDAR FOR 2025\n",
      "==============================\n",
      "\n",
      "                                    2025\n",
      "\n",
      "      January                     February                     March\n",
      "Mo Tu We Th Fr Sa Su        Mo Tu We Th Fr Sa Su        Mo Tu We Th Fr Sa Su\n",
      "       1  2  3  4  5                        1  2                        1  2\n",
      " 6  7  8  9 10 11 12         3  4  5  6  7  8  9         3  4  5  6  7  8  9\n",
      "13 14 15 16 17 18 19        10 11 12 13 14 15 16        10 11 12 13 14 15 16\n",
      "20 21 22 23 24 25 26        17 18 19 20 21 22 23        17 18 19 20 21 22 23\n",
      "27 28 29 30 31              24 25 26 27 28              24 25 26 27 28 29 30\n",
      "                                                        31\n",
      "\n",
      "       April                        May                         June\n",
      "Mo Tu We Th Fr Sa Su        Mo Tu We Th Fr Sa Su        Mo Tu We Th Fr Sa Su\n",
      "    1  2  3  4  5  6                  1  2  3  4                           1\n",
      " 7  8  9 10 11 12 13         5  6  7  8  9 10 11         2  3  4  5  6  7  8\n",
      "14 15 16 17 18 19 20        12 13 14 15 16 17 18         9 10 11 12 13 14 15\n",
      "21 22 23 24 25 26 27        19 20 21 22 23 24 25        16 17 18 19 20 21 22\n",
      "28 29 30                    26 27 28 29 30 31           23 24 25 26 27 28 29\n",
      "                                                        30\n",
      "\n",
      "        July                       August                    September\n",
      "Mo Tu We Th Fr Sa Su        Mo Tu We Th Fr Sa Su        Mo Tu We Th Fr Sa Su\n",
      "    1  2  3  4  5  6                     1  2  3         1  2  3  4  5  6  7\n",
      " 7  8  9 10 11 12 13         4  5  6  7  8  9 10         8  9 10 11 12 13 14\n",
      "14 15 16 17 18 19 20        11 12 13 14 15 16 17        15 16 17 18 19 20 21\n",
      "21 22 23 24 25 26 27        18 19 20 21 22 23 24        22 23 24 25 26 27 28\n",
      "28 29 30 31                 25 26 27 28 29 30 31        29 30\n",
      "\n",
      "      October                     November                    December\n",
      "Mo Tu We Th Fr Sa Su        Mo Tu We Th Fr Sa Su        Mo Tu We Th Fr Sa Su\n",
      "       1  2  3  4  5                        1  2         1  2  3  4  5  6  7\n",
      " 6  7  8  9 10 11 12         3  4  5  6  7  8  9         8  9 10 11 12 13 14\n",
      "13 14 15 16 17 18 19        10 11 12 13 14 15 16        15 16 17 18 19 20 21\n",
      "20 21 22 23 24 25 26        17 18 19 20 21 22 23        22 23 24 25 26 27 28\n",
      "27 28 29 30 31              24 25 26 27 28 29 30        29 30 31\n",
      "\n"
     ]
    }
   ],
   "source": [
    "from calendar import TextCalendar\n",
    "\n",
    "def generate_calendar():                                                                # use functions to generate a calender\n",
    "    try:                                                                                # used for error handeling\n",
    "        year = int(input(\"Enter the year to generate the calendar: \"))                  # user input using\n",
    "        cal = TextCalendar()\n",
    "        print(\"\\n\" + \"=\"*30)\n",
    "        print(f\"   CALENDAR FOR {year}\")\n",
    "        print(\"=\"*30 + \"\\n\")\n",
    "        print(cal.formatyear(year, 2, 1, 8, 3))\n",
    "    except ValueError:\n",
    "        print(\"Invalid input! Please enter a valid year.\")\n",
    "\n",
    "if __name__ == \"__main__\":                                                          # use main function to execute that \n",
    "    generate_calendar()"
   ]
  },
  {
   "cell_type": "code",
   "execution_count": null,
   "metadata": {},
   "outputs": [],
   "source": []
  }
 ],
 "metadata": {
  "kernelspec": {
   "display_name": "Python 3",
   "language": "python",
   "name": "python3"
  },
  "language_info": {
   "codemirror_mode": {
    "name": "ipython",
    "version": 3
   },
   "file_extension": ".py",
   "mimetype": "text/x-python",
   "name": "python",
   "nbconvert_exporter": "python",
   "pygments_lexer": "ipython3",
   "version": "3.12.2"
  }
 },
 "nbformat": 4,
 "nbformat_minor": 2
}
